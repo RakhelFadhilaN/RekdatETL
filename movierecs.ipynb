{
  "nbformat": 4,
  "nbformat_minor": 0,
  "metadata": {
    "colab": {
      "provenance": [],
      "toc_visible": true
    },
    "kernelspec": {
      "name": "python3",
      "display_name": "Python 3"
    },
    "language_info": {
      "name": "python"
    }
  },
  "cells": [
    {
      "cell_type": "code",
      "execution_count": 1,
      "metadata": {
        "id": "oNoXDHB5G55d"
      },
      "outputs": [],
      "source": [
        "import pandas as pd"
      ]
    },
    {
      "cell_type": "code",
      "source": [
        "data = pd.read_csv('/content/movies.csv')"
      ],
      "metadata": {
        "id": "hqLdOfvcHOZB"
      },
      "execution_count": 2,
      "outputs": []
    },
    {
      "cell_type": "code",
      "source": [
        "data.head()"
      ],
      "metadata": {
        "colab": {
          "base_uri": "https://localhost:8080/",
          "height": 556
        },
        "id": "CKvvZX0uHQP-",
        "outputId": "f79d2b51-2516-47c9-b915-4d2ed1208bbb"
      },
      "execution_count": 3,
      "outputs": [
        {
          "output_type": "execute_result",
          "data": {
            "text/plain": [
              "   movie_id                          title  \\\n",
              "0     16250              Love Comes Softly   \n",
              "1   1103825  War of the Worlds: The Attack   \n",
              "2     39106       Dragon Ball Z: Bio-Broly   \n",
              "3   1051896                       Arcadian   \n",
              "4   1124641                     Classified   \n",
              "\n",
              "                                            overview release_date  \\\n",
              "0  Nineteen year old pioneer woman Marty has rece...   2003-04-13   \n",
              "1  Three young astronomers fight to survive a dea...   2023-04-21   \n",
              "2  Jaga Bada, Mr. Satan's old sparring partner, h...   1994-07-09   \n",
              "3  In the near future, on a decimated Earth, Paul...   2024-04-12   \n",
              "4  Operating alone in the field for more than 20 ...   2024-09-19   \n",
              "\n",
              "                                   genres  tmdb_rating  imdb_rating  \\\n",
              "0          TV Movie,Western,Romance,Drama        6.700          7.3   \n",
              "1        Science Fiction,Mystery,Thriller        5.100          3.2   \n",
              "2        Animation,Action,Science Fiction        5.741          5.8   \n",
              "3  Action,Horror,Thriller,Science Fiction        6.100          5.5   \n",
              "4                         Action,Thriller        5.600          3.8   \n",
              "\n",
              "  box_office        awards  runtime                     created_at  \n",
              "0        NaN        3 wins   88 min  2024-11-19 22:39:30.262276+00  \n",
              "1        NaN  1 nomination   85 min  2024-11-19 22:39:31.814267+00  \n",
              "2        NaN           NaN   47 min  2024-11-19 22:39:36.201249+00  \n",
              "3   $828,919  1 nomination   92 min  2024-11-19 07:05:45.184981+00  \n",
              "4        NaN           NaN  105 min   2024-11-19 07:05:45.08505+00  "
            ],
            "text/html": [
              "\n",
              "  <div id=\"df-05bab7fa-914b-499b-9e71-e2f4dbf369eb\" class=\"colab-df-container\">\n",
              "    <div>\n",
              "<style scoped>\n",
              "    .dataframe tbody tr th:only-of-type {\n",
              "        vertical-align: middle;\n",
              "    }\n",
              "\n",
              "    .dataframe tbody tr th {\n",
              "        vertical-align: top;\n",
              "    }\n",
              "\n",
              "    .dataframe thead th {\n",
              "        text-align: right;\n",
              "    }\n",
              "</style>\n",
              "<table border=\"1\" class=\"dataframe\">\n",
              "  <thead>\n",
              "    <tr style=\"text-align: right;\">\n",
              "      <th></th>\n",
              "      <th>movie_id</th>\n",
              "      <th>title</th>\n",
              "      <th>overview</th>\n",
              "      <th>release_date</th>\n",
              "      <th>genres</th>\n",
              "      <th>tmdb_rating</th>\n",
              "      <th>imdb_rating</th>\n",
              "      <th>box_office</th>\n",
              "      <th>awards</th>\n",
              "      <th>runtime</th>\n",
              "      <th>created_at</th>\n",
              "    </tr>\n",
              "  </thead>\n",
              "  <tbody>\n",
              "    <tr>\n",
              "      <th>0</th>\n",
              "      <td>16250</td>\n",
              "      <td>Love Comes Softly</td>\n",
              "      <td>Nineteen year old pioneer woman Marty has rece...</td>\n",
              "      <td>2003-04-13</td>\n",
              "      <td>TV Movie,Western,Romance,Drama</td>\n",
              "      <td>6.700</td>\n",
              "      <td>7.3</td>\n",
              "      <td>NaN</td>\n",
              "      <td>3 wins</td>\n",
              "      <td>88 min</td>\n",
              "      <td>2024-11-19 22:39:30.262276+00</td>\n",
              "    </tr>\n",
              "    <tr>\n",
              "      <th>1</th>\n",
              "      <td>1103825</td>\n",
              "      <td>War of the Worlds: The Attack</td>\n",
              "      <td>Three young astronomers fight to survive a dea...</td>\n",
              "      <td>2023-04-21</td>\n",
              "      <td>Science Fiction,Mystery,Thriller</td>\n",
              "      <td>5.100</td>\n",
              "      <td>3.2</td>\n",
              "      <td>NaN</td>\n",
              "      <td>1 nomination</td>\n",
              "      <td>85 min</td>\n",
              "      <td>2024-11-19 22:39:31.814267+00</td>\n",
              "    </tr>\n",
              "    <tr>\n",
              "      <th>2</th>\n",
              "      <td>39106</td>\n",
              "      <td>Dragon Ball Z: Bio-Broly</td>\n",
              "      <td>Jaga Bada, Mr. Satan's old sparring partner, h...</td>\n",
              "      <td>1994-07-09</td>\n",
              "      <td>Animation,Action,Science Fiction</td>\n",
              "      <td>5.741</td>\n",
              "      <td>5.8</td>\n",
              "      <td>NaN</td>\n",
              "      <td>NaN</td>\n",
              "      <td>47 min</td>\n",
              "      <td>2024-11-19 22:39:36.201249+00</td>\n",
              "    </tr>\n",
              "    <tr>\n",
              "      <th>3</th>\n",
              "      <td>1051896</td>\n",
              "      <td>Arcadian</td>\n",
              "      <td>In the near future, on a decimated Earth, Paul...</td>\n",
              "      <td>2024-04-12</td>\n",
              "      <td>Action,Horror,Thriller,Science Fiction</td>\n",
              "      <td>6.100</td>\n",
              "      <td>5.5</td>\n",
              "      <td>$828,919</td>\n",
              "      <td>1 nomination</td>\n",
              "      <td>92 min</td>\n",
              "      <td>2024-11-19 07:05:45.184981+00</td>\n",
              "    </tr>\n",
              "    <tr>\n",
              "      <th>4</th>\n",
              "      <td>1124641</td>\n",
              "      <td>Classified</td>\n",
              "      <td>Operating alone in the field for more than 20 ...</td>\n",
              "      <td>2024-09-19</td>\n",
              "      <td>Action,Thriller</td>\n",
              "      <td>5.600</td>\n",
              "      <td>3.8</td>\n",
              "      <td>NaN</td>\n",
              "      <td>NaN</td>\n",
              "      <td>105 min</td>\n",
              "      <td>2024-11-19 07:05:45.08505+00</td>\n",
              "    </tr>\n",
              "  </tbody>\n",
              "</table>\n",
              "</div>\n",
              "    <div class=\"colab-df-buttons\">\n",
              "\n",
              "  <div class=\"colab-df-container\">\n",
              "    <button class=\"colab-df-convert\" onclick=\"convertToInteractive('df-05bab7fa-914b-499b-9e71-e2f4dbf369eb')\"\n",
              "            title=\"Convert this dataframe to an interactive table.\"\n",
              "            style=\"display:none;\">\n",
              "\n",
              "  <svg xmlns=\"http://www.w3.org/2000/svg\" height=\"24px\" viewBox=\"0 -960 960 960\">\n",
              "    <path d=\"M120-120v-720h720v720H120Zm60-500h600v-160H180v160Zm220 220h160v-160H400v160Zm0 220h160v-160H400v160ZM180-400h160v-160H180v160Zm440 0h160v-160H620v160ZM180-180h160v-160H180v160Zm440 0h160v-160H620v160Z\"/>\n",
              "  </svg>\n",
              "    </button>\n",
              "\n",
              "  <style>\n",
              "    .colab-df-container {\n",
              "      display:flex;\n",
              "      gap: 12px;\n",
              "    }\n",
              "\n",
              "    .colab-df-convert {\n",
              "      background-color: #E8F0FE;\n",
              "      border: none;\n",
              "      border-radius: 50%;\n",
              "      cursor: pointer;\n",
              "      display: none;\n",
              "      fill: #1967D2;\n",
              "      height: 32px;\n",
              "      padding: 0 0 0 0;\n",
              "      width: 32px;\n",
              "    }\n",
              "\n",
              "    .colab-df-convert:hover {\n",
              "      background-color: #E2EBFA;\n",
              "      box-shadow: 0px 1px 2px rgba(60, 64, 67, 0.3), 0px 1px 3px 1px rgba(60, 64, 67, 0.15);\n",
              "      fill: #174EA6;\n",
              "    }\n",
              "\n",
              "    .colab-df-buttons div {\n",
              "      margin-bottom: 4px;\n",
              "    }\n",
              "\n",
              "    [theme=dark] .colab-df-convert {\n",
              "      background-color: #3B4455;\n",
              "      fill: #D2E3FC;\n",
              "    }\n",
              "\n",
              "    [theme=dark] .colab-df-convert:hover {\n",
              "      background-color: #434B5C;\n",
              "      box-shadow: 0px 1px 3px 1px rgba(0, 0, 0, 0.15);\n",
              "      filter: drop-shadow(0px 1px 2px rgba(0, 0, 0, 0.3));\n",
              "      fill: #FFFFFF;\n",
              "    }\n",
              "  </style>\n",
              "\n",
              "    <script>\n",
              "      const buttonEl =\n",
              "        document.querySelector('#df-05bab7fa-914b-499b-9e71-e2f4dbf369eb button.colab-df-convert');\n",
              "      buttonEl.style.display =\n",
              "        google.colab.kernel.accessAllowed ? 'block' : 'none';\n",
              "\n",
              "      async function convertToInteractive(key) {\n",
              "        const element = document.querySelector('#df-05bab7fa-914b-499b-9e71-e2f4dbf369eb');\n",
              "        const dataTable =\n",
              "          await google.colab.kernel.invokeFunction('convertToInteractive',\n",
              "                                                    [key], {});\n",
              "        if (!dataTable) return;\n",
              "\n",
              "        const docLinkHtml = 'Like what you see? Visit the ' +\n",
              "          '<a target=\"_blank\" href=https://colab.research.google.com/notebooks/data_table.ipynb>data table notebook</a>'\n",
              "          + ' to learn more about interactive tables.';\n",
              "        element.innerHTML = '';\n",
              "        dataTable['output_type'] = 'display_data';\n",
              "        await google.colab.output.renderOutput(dataTable, element);\n",
              "        const docLink = document.createElement('div');\n",
              "        docLink.innerHTML = docLinkHtml;\n",
              "        element.appendChild(docLink);\n",
              "      }\n",
              "    </script>\n",
              "  </div>\n",
              "\n",
              "\n",
              "<div id=\"df-62c469a5-3d97-499f-8d16-34db1eb09f9e\">\n",
              "  <button class=\"colab-df-quickchart\" onclick=\"quickchart('df-62c469a5-3d97-499f-8d16-34db1eb09f9e')\"\n",
              "            title=\"Suggest charts\"\n",
              "            style=\"display:none;\">\n",
              "\n",
              "<svg xmlns=\"http://www.w3.org/2000/svg\" height=\"24px\"viewBox=\"0 0 24 24\"\n",
              "     width=\"24px\">\n",
              "    <g>\n",
              "        <path d=\"M19 3H5c-1.1 0-2 .9-2 2v14c0 1.1.9 2 2 2h14c1.1 0 2-.9 2-2V5c0-1.1-.9-2-2-2zM9 17H7v-7h2v7zm4 0h-2V7h2v10zm4 0h-2v-4h2v4z\"/>\n",
              "    </g>\n",
              "</svg>\n",
              "  </button>\n",
              "\n",
              "<style>\n",
              "  .colab-df-quickchart {\n",
              "      --bg-color: #E8F0FE;\n",
              "      --fill-color: #1967D2;\n",
              "      --hover-bg-color: #E2EBFA;\n",
              "      --hover-fill-color: #174EA6;\n",
              "      --disabled-fill-color: #AAA;\n",
              "      --disabled-bg-color: #DDD;\n",
              "  }\n",
              "\n",
              "  [theme=dark] .colab-df-quickchart {\n",
              "      --bg-color: #3B4455;\n",
              "      --fill-color: #D2E3FC;\n",
              "      --hover-bg-color: #434B5C;\n",
              "      --hover-fill-color: #FFFFFF;\n",
              "      --disabled-bg-color: #3B4455;\n",
              "      --disabled-fill-color: #666;\n",
              "  }\n",
              "\n",
              "  .colab-df-quickchart {\n",
              "    background-color: var(--bg-color);\n",
              "    border: none;\n",
              "    border-radius: 50%;\n",
              "    cursor: pointer;\n",
              "    display: none;\n",
              "    fill: var(--fill-color);\n",
              "    height: 32px;\n",
              "    padding: 0;\n",
              "    width: 32px;\n",
              "  }\n",
              "\n",
              "  .colab-df-quickchart:hover {\n",
              "    background-color: var(--hover-bg-color);\n",
              "    box-shadow: 0 1px 2px rgba(60, 64, 67, 0.3), 0 1px 3px 1px rgba(60, 64, 67, 0.15);\n",
              "    fill: var(--button-hover-fill-color);\n",
              "  }\n",
              "\n",
              "  .colab-df-quickchart-complete:disabled,\n",
              "  .colab-df-quickchart-complete:disabled:hover {\n",
              "    background-color: var(--disabled-bg-color);\n",
              "    fill: var(--disabled-fill-color);\n",
              "    box-shadow: none;\n",
              "  }\n",
              "\n",
              "  .colab-df-spinner {\n",
              "    border: 2px solid var(--fill-color);\n",
              "    border-color: transparent;\n",
              "    border-bottom-color: var(--fill-color);\n",
              "    animation:\n",
              "      spin 1s steps(1) infinite;\n",
              "  }\n",
              "\n",
              "  @keyframes spin {\n",
              "    0% {\n",
              "      border-color: transparent;\n",
              "      border-bottom-color: var(--fill-color);\n",
              "      border-left-color: var(--fill-color);\n",
              "    }\n",
              "    20% {\n",
              "      border-color: transparent;\n",
              "      border-left-color: var(--fill-color);\n",
              "      border-top-color: var(--fill-color);\n",
              "    }\n",
              "    30% {\n",
              "      border-color: transparent;\n",
              "      border-left-color: var(--fill-color);\n",
              "      border-top-color: var(--fill-color);\n",
              "      border-right-color: var(--fill-color);\n",
              "    }\n",
              "    40% {\n",
              "      border-color: transparent;\n",
              "      border-right-color: var(--fill-color);\n",
              "      border-top-color: var(--fill-color);\n",
              "    }\n",
              "    60% {\n",
              "      border-color: transparent;\n",
              "      border-right-color: var(--fill-color);\n",
              "    }\n",
              "    80% {\n",
              "      border-color: transparent;\n",
              "      border-right-color: var(--fill-color);\n",
              "      border-bottom-color: var(--fill-color);\n",
              "    }\n",
              "    90% {\n",
              "      border-color: transparent;\n",
              "      border-bottom-color: var(--fill-color);\n",
              "    }\n",
              "  }\n",
              "</style>\n",
              "\n",
              "  <script>\n",
              "    async function quickchart(key) {\n",
              "      const quickchartButtonEl =\n",
              "        document.querySelector('#' + key + ' button');\n",
              "      quickchartButtonEl.disabled = true;  // To prevent multiple clicks.\n",
              "      quickchartButtonEl.classList.add('colab-df-spinner');\n",
              "      try {\n",
              "        const charts = await google.colab.kernel.invokeFunction(\n",
              "            'suggestCharts', [key], {});\n",
              "      } catch (error) {\n",
              "        console.error('Error during call to suggestCharts:', error);\n",
              "      }\n",
              "      quickchartButtonEl.classList.remove('colab-df-spinner');\n",
              "      quickchartButtonEl.classList.add('colab-df-quickchart-complete');\n",
              "    }\n",
              "    (() => {\n",
              "      let quickchartButtonEl =\n",
              "        document.querySelector('#df-62c469a5-3d97-499f-8d16-34db1eb09f9e button');\n",
              "      quickchartButtonEl.style.display =\n",
              "        google.colab.kernel.accessAllowed ? 'block' : 'none';\n",
              "    })();\n",
              "  </script>\n",
              "</div>\n",
              "\n",
              "    </div>\n",
              "  </div>\n"
            ],
            "application/vnd.google.colaboratory.intrinsic+json": {
              "type": "dataframe",
              "variable_name": "data",
              "summary": "{\n  \"name\": \"data\",\n  \"rows\": 1450,\n  \"fields\": [\n    {\n      \"column\": \"movie_id\",\n      \"properties\": {\n        \"dtype\": \"number\",\n        \"std\": 448921,\n        \"min\": 11,\n        \"max\": 1380268,\n        \"num_unique_values\": 1450,\n        \"samples\": [\n          1221404,\n          1360610,\n          663712\n        ],\n        \"semantic_type\": \"\",\n        \"description\": \"\"\n      }\n    },\n    {\n      \"column\": \"title\",\n      \"properties\": {\n        \"dtype\": \"string\",\n        \"num_unique_values\": 1435,\n        \"samples\": [\n          \"Killer Babes\",\n          \"The Huntsman: Winter's War\",\n          \"Peter Pan\"\n        ],\n        \"semantic_type\": \"\",\n        \"description\": \"\"\n      }\n    },\n    {\n      \"column\": \"overview\",\n      \"properties\": {\n        \"dtype\": \"string\",\n        \"num_unique_values\": 1441,\n        \"samples\": [\n          \"Rita, an underrated lawyer working for a large law firm more interested in getting criminals out of jail than bringing them to justice, is hired by the leader of a criminal organization.\",\n          \"It\\u2019s the summer before Elle heads to college, and she has a secret decision to make. Elle has been accepted into Harvard, where boyfriend Noah is matriculating, and also Berkeley, where her BFF Lee is headed and has to decide if she should stay or not.\",\n          \"Painter Ha-rim became blind due to an unfortunate accident. His wife Sun-yeong searches far and low for a cornea donor until she meets terminal cancer patient Dae-geun. These two make a startling and dangerous deal for Ha-rim's cornea.\"\n        ],\n        \"semantic_type\": \"\",\n        \"description\": \"\"\n      }\n    },\n    {\n      \"column\": \"release_date\",\n      \"properties\": {\n        \"dtype\": \"object\",\n        \"num_unique_values\": 1219,\n        \"samples\": [\n          \"2018-08-16\",\n          \"1974-12-20\",\n          \"2024-07-11\"\n        ],\n        \"semantic_type\": \"\",\n        \"description\": \"\"\n      }\n    },\n    {\n      \"column\": \"genres\",\n      \"properties\": {\n        \"dtype\": \"category\",\n        \"num_unique_values\": 615,\n        \"samples\": [\n          \"Adventure,Family,Fantasy\",\n          \"Action,Thriller,Science Fiction\",\n          \"Adventure,Comedy,Science Fiction\"\n        ],\n        \"semantic_type\": \"\",\n        \"description\": \"\"\n      }\n    },\n    {\n      \"column\": \"tmdb_rating\",\n      \"properties\": {\n        \"dtype\": \"number\",\n        \"std\": 1.374910374921112,\n        \"min\": 0.0,\n        \"max\": 10.0,\n        \"num_unique_values\": 644,\n        \"samples\": [\n          6.278,\n          5.16,\n          7.993\n        ],\n        \"semantic_type\": \"\",\n        \"description\": \"\"\n      }\n    },\n    {\n      \"column\": \"imdb_rating\",\n      \"properties\": {\n        \"dtype\": \"number\",\n        \"std\": 1.164247615071103,\n        \"min\": 2.1,\n        \"max\": 9.3,\n        \"num_unique_values\": 70,\n        \"samples\": [\n          3.3,\n          7.3,\n          4.1\n        ],\n        \"semantic_type\": \"\",\n        \"description\": \"\"\n      }\n    },\n    {\n      \"column\": \"box_office\",\n      \"properties\": {\n        \"dtype\": \"string\",\n        \"num_unique_values\": 871,\n        \"samples\": [\n          \"$25,568,251\",\n          \"$272,242,291\",\n          \"$24,801,212\"\n        ],\n        \"semantic_type\": \"\",\n        \"description\": \"\"\n      }\n    },\n    {\n      \"column\": \"awards\",\n      \"properties\": {\n        \"dtype\": \"category\",\n        \"num_unique_values\": 530,\n        \"samples\": [\n          \"Won 6 Oscars. 242 wins & 307 nominations total\",\n          \"Nominated for 1 BAFTA Award25 wins & 47 nominations total\",\n          \"1 win & 1 nomination\"\n        ],\n        \"semantic_type\": \"\",\n        \"description\": \"\"\n      }\n    },\n    {\n      \"column\": \"runtime\",\n      \"properties\": {\n        \"dtype\": \"category\",\n        \"num_unique_values\": 151,\n        \"samples\": [\n          \"71 min\",\n          \"100 min\",\n          \"142 min\"\n        ],\n        \"semantic_type\": \"\",\n        \"description\": \"\"\n      }\n    },\n    {\n      \"column\": \"created_at\",\n      \"properties\": {\n        \"dtype\": \"object\",\n        \"num_unique_values\": 1450,\n        \"samples\": [\n          \"2024-11-19 09:03:40.599251+00\",\n          \"2024-11-19 13:00:00.240398+00\",\n          \"2024-11-19 07:05:46.096171+00\"\n        ],\n        \"semantic_type\": \"\",\n        \"description\": \"\"\n      }\n    }\n  ]\n}"
            }
          },
          "metadata": {},
          "execution_count": 3
        }
      ]
    },
    {
      "cell_type": "markdown",
      "source": [
        "# **Data Preprocessing**"
      ],
      "metadata": {
        "id": "bTAjI0dmHTNH"
      }
    },
    {
      "cell_type": "code",
      "source": [
        "data.info()"
      ],
      "metadata": {
        "colab": {
          "base_uri": "https://localhost:8080/"
        },
        "id": "M8SZIeOpHRNB",
        "outputId": "3e9cb514-30c4-48ea-bc37-07e838a7bf61"
      },
      "execution_count": 4,
      "outputs": [
        {
          "output_type": "stream",
          "name": "stdout",
          "text": [
            "<class 'pandas.core.frame.DataFrame'>\n",
            "RangeIndex: 1450 entries, 0 to 1449\n",
            "Data columns (total 11 columns):\n",
            " #   Column        Non-Null Count  Dtype  \n",
            "---  ------        --------------  -----  \n",
            " 0   movie_id      1450 non-null   int64  \n",
            " 1   title         1450 non-null   object \n",
            " 2   overview      1441 non-null   object \n",
            " 3   release_date  1450 non-null   object \n",
            " 4   genres        1445 non-null   object \n",
            " 5   tmdb_rating   1450 non-null   float64\n",
            " 6   imdb_rating   1270 non-null   float64\n",
            " 7   box_office    885 non-null    object \n",
            " 8   awards        1029 non-null   object \n",
            " 9   runtime       1313 non-null   object \n",
            " 10  created_at    1450 non-null   object \n",
            "dtypes: float64(2), int64(1), object(8)\n",
            "memory usage: 124.7+ KB\n"
          ]
        }
      ]
    },
    {
      "cell_type": "code",
      "source": [
        "#drop irrelevant columns\n",
        "data = data.drop(columns=['movie_id', 'release_date', 'tmdb_rating', 'imdb_rating',\n",
        "                           'box_office', 'awards', 'runtime', 'created_at'])"
      ],
      "metadata": {
        "id": "ODFrQu5GIunp"
      },
      "execution_count": 5,
      "outputs": []
    },
    {
      "cell_type": "code",
      "source": [
        "#check missing value\n",
        "data.isnull().sum()"
      ],
      "metadata": {
        "colab": {
          "base_uri": "https://localhost:8080/",
          "height": 178
        },
        "id": "RDbN4FIVIwlC",
        "outputId": "28c4ab89-fdd7-45eb-cd82-b28505b47b0e"
      },
      "execution_count": 6,
      "outputs": [
        {
          "output_type": "execute_result",
          "data": {
            "text/plain": [
              "title       0\n",
              "overview    9\n",
              "genres      5\n",
              "dtype: int64"
            ],
            "text/html": [
              "<div>\n",
              "<style scoped>\n",
              "    .dataframe tbody tr th:only-of-type {\n",
              "        vertical-align: middle;\n",
              "    }\n",
              "\n",
              "    .dataframe tbody tr th {\n",
              "        vertical-align: top;\n",
              "    }\n",
              "\n",
              "    .dataframe thead th {\n",
              "        text-align: right;\n",
              "    }\n",
              "</style>\n",
              "<table border=\"1\" class=\"dataframe\">\n",
              "  <thead>\n",
              "    <tr style=\"text-align: right;\">\n",
              "      <th></th>\n",
              "      <th>0</th>\n",
              "    </tr>\n",
              "  </thead>\n",
              "  <tbody>\n",
              "    <tr>\n",
              "      <th>title</th>\n",
              "      <td>0</td>\n",
              "    </tr>\n",
              "    <tr>\n",
              "      <th>overview</th>\n",
              "      <td>9</td>\n",
              "    </tr>\n",
              "    <tr>\n",
              "      <th>genres</th>\n",
              "      <td>5</td>\n",
              "    </tr>\n",
              "  </tbody>\n",
              "</table>\n",
              "</div><br><label><b>dtype:</b> int64</label>"
            ]
          },
          "metadata": {},
          "execution_count": 6
        }
      ]
    },
    {
      "cell_type": "code",
      "source": [
        "# drop rows if missing val < 10%\n",
        "cols_to_drop = data.columns[(data.isnull().mean() < 0.1) & (data.isnull().mean() > 0)]\n",
        "data = data.dropna(subset=cols_to_drop)"
      ],
      "metadata": {
        "id": "UCVosHMsIxvx"
      },
      "execution_count": 7,
      "outputs": []
    },
    {
      "cell_type": "code",
      "source": [
        "print(data.isnull().sum())"
      ],
      "metadata": {
        "colab": {
          "base_uri": "https://localhost:8080/"
        },
        "id": "sg9vkoA8I1N1",
        "outputId": "3816b3cf-cb6e-4bfe-c05d-16a259f0378c"
      },
      "execution_count": 8,
      "outputs": [
        {
          "output_type": "stream",
          "name": "stdout",
          "text": [
            "title       0\n",
            "overview    0\n",
            "genres      0\n",
            "dtype: int64\n"
          ]
        }
      ]
    },
    {
      "cell_type": "code",
      "source": [
        "import re\n",
        "import nltk\n",
        "\n",
        "def clean_text(text):\n",
        "  #convert into lowercase\n",
        "  text = text.lower()\n",
        "\n",
        "  #remova punctuation\n",
        "  text = re.sub(r'[^a-zA-Z\\s]', '', text)\n",
        "\n",
        "  #remove digits\n",
        "  text = re.sub(r'\\d+', '', text)\n",
        "\n",
        "  #remove newline characters\n",
        "  text = re.sub(r'\\n', ' ', text)\n",
        "\n",
        "  return text"
      ],
      "metadata": {
        "id": "CEuaViu3I5j1"
      },
      "execution_count": 9,
      "outputs": []
    },
    {
      "cell_type": "code",
      "source": [
        "#apply the function to overview\n",
        "data['overview'] = data['overview'].apply(clean_text)"
      ],
      "metadata": {
        "id": "pq3B7XwTJn3J"
      },
      "execution_count": 10,
      "outputs": []
    },
    {
      "cell_type": "code",
      "source": [
        "data['overview']"
      ],
      "metadata": {
        "colab": {
          "base_uri": "https://localhost:8080/",
          "height": 458
        },
        "id": "AdXf_o5VJqR4",
        "outputId": "fcd7a077-7c8e-4ec8-89e3-cb5c89231ab1"
      },
      "execution_count": 11,
      "outputs": [
        {
          "output_type": "execute_result",
          "data": {
            "text/plain": [
              "0       nineteen year old pioneer woman marty has rece...\n",
              "1       three young astronomers fight to survive a dea...\n",
              "2       jaga bada mr satans old sparring partner has i...\n",
              "3       in the near future on a decimated earth paul a...\n",
              "4       operating alone in the field for more than  ye...\n",
              "                              ...                        \n",
              "1445    after the second impact tokyo is being attacke...\n",
              "1446    a mysterious woman recruits bank teller ludwig...\n",
              "1447    a young beautiful career woman rents a backwoo...\n",
              "1448    the herdman kids are undeniably the worst kids...\n",
              "1449    a widower and two of his sons become infatuate...\n",
              "Name: overview, Length: 1438, dtype: object"
            ],
            "text/html": [
              "<div>\n",
              "<style scoped>\n",
              "    .dataframe tbody tr th:only-of-type {\n",
              "        vertical-align: middle;\n",
              "    }\n",
              "\n",
              "    .dataframe tbody tr th {\n",
              "        vertical-align: top;\n",
              "    }\n",
              "\n",
              "    .dataframe thead th {\n",
              "        text-align: right;\n",
              "    }\n",
              "</style>\n",
              "<table border=\"1\" class=\"dataframe\">\n",
              "  <thead>\n",
              "    <tr style=\"text-align: right;\">\n",
              "      <th></th>\n",
              "      <th>overview</th>\n",
              "    </tr>\n",
              "  </thead>\n",
              "  <tbody>\n",
              "    <tr>\n",
              "      <th>0</th>\n",
              "      <td>nineteen year old pioneer woman marty has rece...</td>\n",
              "    </tr>\n",
              "    <tr>\n",
              "      <th>1</th>\n",
              "      <td>three young astronomers fight to survive a dea...</td>\n",
              "    </tr>\n",
              "    <tr>\n",
              "      <th>2</th>\n",
              "      <td>jaga bada mr satans old sparring partner has i...</td>\n",
              "    </tr>\n",
              "    <tr>\n",
              "      <th>3</th>\n",
              "      <td>in the near future on a decimated earth paul a...</td>\n",
              "    </tr>\n",
              "    <tr>\n",
              "      <th>4</th>\n",
              "      <td>operating alone in the field for more than  ye...</td>\n",
              "    </tr>\n",
              "    <tr>\n",
              "      <th>...</th>\n",
              "      <td>...</td>\n",
              "    </tr>\n",
              "    <tr>\n",
              "      <th>1445</th>\n",
              "      <td>after the second impact tokyo is being attacke...</td>\n",
              "    </tr>\n",
              "    <tr>\n",
              "      <th>1446</th>\n",
              "      <td>a mysterious woman recruits bank teller ludwig...</td>\n",
              "    </tr>\n",
              "    <tr>\n",
              "      <th>1447</th>\n",
              "      <td>a young beautiful career woman rents a backwoo...</td>\n",
              "    </tr>\n",
              "    <tr>\n",
              "      <th>1448</th>\n",
              "      <td>the herdman kids are undeniably the worst kids...</td>\n",
              "    </tr>\n",
              "    <tr>\n",
              "      <th>1449</th>\n",
              "      <td>a widower and two of his sons become infatuate...</td>\n",
              "    </tr>\n",
              "  </tbody>\n",
              "</table>\n",
              "<p>1438 rows × 1 columns</p>\n",
              "</div><br><label><b>dtype:</b> object</label>"
            ]
          },
          "metadata": {},
          "execution_count": 11
        }
      ]
    },
    {
      "cell_type": "code",
      "source": [
        "def clean_genres(text):\n",
        "    text = text.lower()\n",
        "    text = text.replace(\" \", \"\")\n",
        "    text = text.replace(\",\", \" \")\n",
        "    return text"
      ],
      "metadata": {
        "id": "cBycfD17Jrey"
      },
      "execution_count": 12,
      "outputs": []
    },
    {
      "cell_type": "code",
      "source": [
        "#apply the function\n",
        "data['genres'] = data['genres'].apply(clean_genres)"
      ],
      "metadata": {
        "id": "wpRVh0MOJuxA"
      },
      "execution_count": 13,
      "outputs": []
    },
    {
      "cell_type": "code",
      "source": [
        "data['genres']"
      ],
      "metadata": {
        "colab": {
          "base_uri": "https://localhost:8080/",
          "height": 458
        },
        "id": "WUF4xP7-JxR0",
        "outputId": "0f6440a4-240c-4568-a3b3-a56355b144d8"
      },
      "execution_count": 14,
      "outputs": [
        {
          "output_type": "execute_result",
          "data": {
            "text/plain": [
              "0               tvmovie western romance drama\n",
              "1             sciencefiction mystery thriller\n",
              "2             animation action sciencefiction\n",
              "3       action horror thriller sciencefiction\n",
              "4                             action thriller\n",
              "                        ...                  \n",
              "1445    animation sciencefiction action drama\n",
              "1446                      action crime comedy\n",
              "1447                          horror thriller\n",
              "1448                      comedy drama family\n",
              "1449                                   comedy\n",
              "Name: genres, Length: 1438, dtype: object"
            ],
            "text/html": [
              "<div>\n",
              "<style scoped>\n",
              "    .dataframe tbody tr th:only-of-type {\n",
              "        vertical-align: middle;\n",
              "    }\n",
              "\n",
              "    .dataframe tbody tr th {\n",
              "        vertical-align: top;\n",
              "    }\n",
              "\n",
              "    .dataframe thead th {\n",
              "        text-align: right;\n",
              "    }\n",
              "</style>\n",
              "<table border=\"1\" class=\"dataframe\">\n",
              "  <thead>\n",
              "    <tr style=\"text-align: right;\">\n",
              "      <th></th>\n",
              "      <th>genres</th>\n",
              "    </tr>\n",
              "  </thead>\n",
              "  <tbody>\n",
              "    <tr>\n",
              "      <th>0</th>\n",
              "      <td>tvmovie western romance drama</td>\n",
              "    </tr>\n",
              "    <tr>\n",
              "      <th>1</th>\n",
              "      <td>sciencefiction mystery thriller</td>\n",
              "    </tr>\n",
              "    <tr>\n",
              "      <th>2</th>\n",
              "      <td>animation action sciencefiction</td>\n",
              "    </tr>\n",
              "    <tr>\n",
              "      <th>3</th>\n",
              "      <td>action horror thriller sciencefiction</td>\n",
              "    </tr>\n",
              "    <tr>\n",
              "      <th>4</th>\n",
              "      <td>action thriller</td>\n",
              "    </tr>\n",
              "    <tr>\n",
              "      <th>...</th>\n",
              "      <td>...</td>\n",
              "    </tr>\n",
              "    <tr>\n",
              "      <th>1445</th>\n",
              "      <td>animation sciencefiction action drama</td>\n",
              "    </tr>\n",
              "    <tr>\n",
              "      <th>1446</th>\n",
              "      <td>action crime comedy</td>\n",
              "    </tr>\n",
              "    <tr>\n",
              "      <th>1447</th>\n",
              "      <td>horror thriller</td>\n",
              "    </tr>\n",
              "    <tr>\n",
              "      <th>1448</th>\n",
              "      <td>comedy drama family</td>\n",
              "    </tr>\n",
              "    <tr>\n",
              "      <th>1449</th>\n",
              "      <td>comedy</td>\n",
              "    </tr>\n",
              "  </tbody>\n",
              "</table>\n",
              "<p>1438 rows × 1 columns</p>\n",
              "</div><br><label><b>dtype:</b> object</label>"
            ]
          },
          "metadata": {},
          "execution_count": 14
        }
      ]
    },
    {
      "cell_type": "markdown",
      "source": [
        "# **Feature Extraction**"
      ],
      "metadata": {
        "id": "T9M4Aqd1J2CE"
      }
    },
    {
      "cell_type": "code",
      "source": [
        "#combine overview and genre to create a new feature\n",
        "def create_mix(x):\n",
        "    return f\"{x['overview']} {x['genres']}\".strip()\n",
        "\n",
        "data['mix'] = data.apply(create_mix, axis=1)"
      ],
      "metadata": {
        "id": "62RvJWLGJ6O4"
      },
      "execution_count": 15,
      "outputs": []
    },
    {
      "cell_type": "code",
      "source": [
        "from sklearn.feature_extraction.text import TfidfVectorizer\n",
        "\n",
        "vectorizer = TfidfVectorizer(stop_words='english')"
      ],
      "metadata": {
        "id": "b3PhWWAoKCU5"
      },
      "execution_count": 16,
      "outputs": []
    },
    {
      "cell_type": "code",
      "source": [
        "#convert text data to TF-IDF matrix\n",
        "tfidf_matrix = vectorizer.fit_transform(data['mix'])\n",
        "\n",
        "#print matrix shape\n",
        "print(tfidf_matrix.shape)"
      ],
      "metadata": {
        "colab": {
          "base_uri": "https://localhost:8080/"
        },
        "id": "6diB1D61KErb",
        "outputId": "797df467-fe51-4157-b7ae-93d0e67186a0"
      },
      "execution_count": 17,
      "outputs": [
        {
          "output_type": "stream",
          "name": "stdout",
          "text": [
            "(1438, 10750)\n"
          ]
        }
      ]
    },
    {
      "cell_type": "markdown",
      "source": [
        "# **Content Based Recommenders**"
      ],
      "metadata": {
        "id": "JWS36st-KonT"
      }
    },
    {
      "cell_type": "code",
      "source": [
        "#import linear_kernel\n",
        "from sklearn.metrics.pairwise import linear_kernel\n",
        "\n",
        "#compute the cosine similarity matrix\n",
        "cosine_sim = linear_kernel(tfidf_matrix, tfidf_matrix)"
      ],
      "metadata": {
        "id": "R_EpzSa_KvPP"
      },
      "execution_count": 18,
      "outputs": []
    },
    {
      "cell_type": "code",
      "source": [
        "data = data.reset_index()\n",
        "indices = pd.Series(data.index, index=data['title'])"
      ],
      "metadata": {
        "id": "HzpqbRzAMutY"
      },
      "execution_count": 24,
      "outputs": []
    },
    {
      "cell_type": "code",
      "source": [
        "# function that takes in movie title as input and outputs most similar movies\n",
        "def get_recommendations(title, cosine_sim):\n",
        "    # Get the index of the movie that matches the title\n",
        "    idx = indices[title]\n",
        "\n",
        "    # Get the pairwsie similarity scores of all movies with that movie\n",
        "    sim_scores = list(enumerate(cosine_sim[idx]))\n",
        "\n",
        "    # Sort the movies based on the similarity scores\n",
        "    sim_scores = sorted(sim_scores, key=lambda x: x[1], reverse=True)\n",
        "\n",
        "    # Get the scores of the 10 most similar movies\n",
        "    sim_scores = sim_scores[1:11]\n",
        "\n",
        "    # Get the movie indices\n",
        "    movie_indices = [i[0] for i in sim_scores]\n",
        "\n",
        "    # Return the top 10 most similar movies\n",
        "    return data['title'].iloc[movie_indices]"
      ],
      "metadata": {
        "id": "p7WP8igQK4ZH"
      },
      "execution_count": 25,
      "outputs": []
    },
    {
      "cell_type": "code",
      "source": [
        "get_recommendations('Despicable Me 4', cosine_sim)"
      ],
      "metadata": {
        "colab": {
          "base_uri": "https://localhost:8080/",
          "height": 398
        },
        "id": "xgp1wwp2K6_B",
        "outputId": "9b2e6601-37b7-46f6-8236-8e2ba0209b79"
      },
      "execution_count": 26,
      "outputs": [
        {
          "output_type": "execute_result",
          "data": {
            "text/plain": [
              "529                        Despicable Me 2\n",
              "775                        Despicable Me 3\n",
              "244               Minions: The Rise of Gru\n",
              "254                          Despicable Me\n",
              "95                               Migration\n",
              "172                           Original Sin\n",
              "444     No Time to Spy: A Loud House Movie\n",
              "91                                   Focus\n",
              "773        Alice Through the Looking Glass\n",
              "1028     No Manches Frida 2: Paradise Lost\n",
              "Name: title, dtype: object"
            ],
            "text/html": [
              "<div>\n",
              "<style scoped>\n",
              "    .dataframe tbody tr th:only-of-type {\n",
              "        vertical-align: middle;\n",
              "    }\n",
              "\n",
              "    .dataframe tbody tr th {\n",
              "        vertical-align: top;\n",
              "    }\n",
              "\n",
              "    .dataframe thead th {\n",
              "        text-align: right;\n",
              "    }\n",
              "</style>\n",
              "<table border=\"1\" class=\"dataframe\">\n",
              "  <thead>\n",
              "    <tr style=\"text-align: right;\">\n",
              "      <th></th>\n",
              "      <th>title</th>\n",
              "    </tr>\n",
              "  </thead>\n",
              "  <tbody>\n",
              "    <tr>\n",
              "      <th>529</th>\n",
              "      <td>Despicable Me 2</td>\n",
              "    </tr>\n",
              "    <tr>\n",
              "      <th>775</th>\n",
              "      <td>Despicable Me 3</td>\n",
              "    </tr>\n",
              "    <tr>\n",
              "      <th>244</th>\n",
              "      <td>Minions: The Rise of Gru</td>\n",
              "    </tr>\n",
              "    <tr>\n",
              "      <th>254</th>\n",
              "      <td>Despicable Me</td>\n",
              "    </tr>\n",
              "    <tr>\n",
              "      <th>95</th>\n",
              "      <td>Migration</td>\n",
              "    </tr>\n",
              "    <tr>\n",
              "      <th>172</th>\n",
              "      <td>Original Sin</td>\n",
              "    </tr>\n",
              "    <tr>\n",
              "      <th>444</th>\n",
              "      <td>No Time to Spy: A Loud House Movie</td>\n",
              "    </tr>\n",
              "    <tr>\n",
              "      <th>91</th>\n",
              "      <td>Focus</td>\n",
              "    </tr>\n",
              "    <tr>\n",
              "      <th>773</th>\n",
              "      <td>Alice Through the Looking Glass</td>\n",
              "    </tr>\n",
              "    <tr>\n",
              "      <th>1028</th>\n",
              "      <td>No Manches Frida 2: Paradise Lost</td>\n",
              "    </tr>\n",
              "  </tbody>\n",
              "</table>\n",
              "</div><br><label><b>dtype:</b> object</label>"
            ]
          },
          "metadata": {},
          "execution_count": 26
        }
      ]
    },
    {
      "cell_type": "code",
      "source": [
        "get_recommendations('Ponyo', cosine_sim)"
      ],
      "metadata": {
        "colab": {
          "base_uri": "https://localhost:8080/",
          "height": 398
        },
        "id": "-BriEXF2LaAh",
        "outputId": "2ee54215-89c4-410f-e69f-bb2fd8cab201"
      },
      "execution_count": 27,
      "outputs": [
        {
          "output_type": "execute_result",
          "data": {
            "text/plain": [
              "604                        Pinocchio\n",
              "253               The Little Mermaid\n",
              "1378    The Secret World of Arrietty\n",
              "79                      The Predator\n",
              "908            The NeverEnding Story\n",
              "573                  Run, Tiger Run!\n",
              "225                        Elevation\n",
              "525                       Shark Tale\n",
              "463                The Good Dinosaur\n",
              "1177               Castle in the Sky\n",
              "Name: title, dtype: object"
            ],
            "text/html": [
              "<div>\n",
              "<style scoped>\n",
              "    .dataframe tbody tr th:only-of-type {\n",
              "        vertical-align: middle;\n",
              "    }\n",
              "\n",
              "    .dataframe tbody tr th {\n",
              "        vertical-align: top;\n",
              "    }\n",
              "\n",
              "    .dataframe thead th {\n",
              "        text-align: right;\n",
              "    }\n",
              "</style>\n",
              "<table border=\"1\" class=\"dataframe\">\n",
              "  <thead>\n",
              "    <tr style=\"text-align: right;\">\n",
              "      <th></th>\n",
              "      <th>title</th>\n",
              "    </tr>\n",
              "  </thead>\n",
              "  <tbody>\n",
              "    <tr>\n",
              "      <th>604</th>\n",
              "      <td>Pinocchio</td>\n",
              "    </tr>\n",
              "    <tr>\n",
              "      <th>253</th>\n",
              "      <td>The Little Mermaid</td>\n",
              "    </tr>\n",
              "    <tr>\n",
              "      <th>1378</th>\n",
              "      <td>The Secret World of Arrietty</td>\n",
              "    </tr>\n",
              "    <tr>\n",
              "      <th>79</th>\n",
              "      <td>The Predator</td>\n",
              "    </tr>\n",
              "    <tr>\n",
              "      <th>908</th>\n",
              "      <td>The NeverEnding Story</td>\n",
              "    </tr>\n",
              "    <tr>\n",
              "      <th>573</th>\n",
              "      <td>Run, Tiger Run!</td>\n",
              "    </tr>\n",
              "    <tr>\n",
              "      <th>225</th>\n",
              "      <td>Elevation</td>\n",
              "    </tr>\n",
              "    <tr>\n",
              "      <th>525</th>\n",
              "      <td>Shark Tale</td>\n",
              "    </tr>\n",
              "    <tr>\n",
              "      <th>463</th>\n",
              "      <td>The Good Dinosaur</td>\n",
              "    </tr>\n",
              "    <tr>\n",
              "      <th>1177</th>\n",
              "      <td>Castle in the Sky</td>\n",
              "    </tr>\n",
              "  </tbody>\n",
              "</table>\n",
              "</div><br><label><b>dtype:</b> object</label>"
            ]
          },
          "metadata": {},
          "execution_count": 27
        }
      ]
    }
  ]
}